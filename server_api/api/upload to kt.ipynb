{
 "cells": [
  {
   "cell_type": "code",
   "execution_count": 12,
   "id": "42d2f921",
   "metadata": {
    "scrolled": true
   },
   "outputs": [],
   "source": [
    "import pandas as pd \n",
    "import numpy as np\n",
    "import spacy \n",
    "from py2neo import Graph, Node, Relationship \n",
    "import re, os "
   ]
  },
  {
   "cell_type": "code",
   "execution_count": 9,
   "id": "70184225",
   "metadata": {},
   "outputs": [
    {
     "data": {
      "text/html": [
       "<div>\n",
       "<style scoped>\n",
       "    .dataframe tbody tr th:only-of-type {\n",
       "        vertical-align: middle;\n",
       "    }\n",
       "\n",
       "    .dataframe tbody tr th {\n",
       "        vertical-align: top;\n",
       "    }\n",
       "\n",
       "    .dataframe thead th {\n",
       "        text-align: right;\n",
       "    }\n",
       "</style>\n",
       "<table border=\"1\" class=\"dataframe\">\n",
       "  <thead>\n",
       "    <tr style=\"text-align: right;\">\n",
       "      <th></th>\n",
       "      <th>Disease</th>\n",
       "      <th>Description</th>\n",
       "      <th>Symptoms</th>\n",
       "      <th>Duration</th>\n",
       "      <th>clean_symptoms</th>\n",
       "    </tr>\n",
       "  </thead>\n",
       "  <tbody>\n",
       "    <tr>\n",
       "      <th>0</th>\n",
       "      <td>Chickenpox</td>\n",
       "      <td>Chickenpox is an infection caused by the varic...</td>\n",
       "      <td>Fever, Loss of appetite, Headache, Tiredness, ...</td>\n",
       "      <td>4-10</td>\n",
       "      <td>fever, loss appetite, headache, tiredness, fee...</td>\n",
       "    </tr>\n",
       "    <tr>\n",
       "      <th>1</th>\n",
       "      <td>Common cold</td>\n",
       "      <td>The common cold is a viral infection of your n...</td>\n",
       "      <td>Sneezing, Stuffy nose, Runny nose, Sore throat...</td>\n",
       "      <td>3-7</td>\n",
       "      <td>sneeze, stuffy nose, runny nose, sore throat, ...</td>\n",
       "    </tr>\n",
       "    <tr>\n",
       "      <th>2</th>\n",
       "      <td>Conjunctivitis (\"pink eye“)</td>\n",
       "      <td>Pink eye (conjunctivitis) is an inflammation o...</td>\n",
       "      <td>Pink or red color in the eye, Swelling of eyel...</td>\n",
       "      <td>7-28</td>\n",
       "      <td>swell eyelid, itch, irritation, burn, discharg...</td>\n",
       "    </tr>\n",
       "    <tr>\n",
       "      <th>3</th>\n",
       "      <td>Diarrhea</td>\n",
       "      <td>Diarrhea — loose, watery and possibly more-fre...</td>\n",
       "      <td>Abdominal cramps or pain, Bloating, Nausea, Vo...</td>\n",
       "      <td>2-28</td>\n",
       "      <td>abdominal cramp pain, bloat, nausea, vomit, fe...</td>\n",
       "    </tr>\n",
       "    <tr>\n",
       "      <th>4</th>\n",
       "      <td>Diphtheria</td>\n",
       "      <td>Diphtheria is a serious bacterial infection th...</td>\n",
       "      <td>A thick gray membrane covering the throat and ...</td>\n",
       "      <td>7-21</td>\n",
       "      <td>sore throat hoarseness, swollen gland neck, di...</td>\n",
       "    </tr>\n",
       "  </tbody>\n",
       "</table>\n",
       "</div>"
      ],
      "text/plain": [
       "                       Disease  \\\n",
       "0                   Chickenpox   \n",
       "1                  Common cold   \n",
       "2  Conjunctivitis (\"pink eye“)   \n",
       "3                     Diarrhea   \n",
       "4                   Diphtheria   \n",
       "\n",
       "                                         Description  \\\n",
       "0  Chickenpox is an infection caused by the varic...   \n",
       "1  The common cold is a viral infection of your n...   \n",
       "2  Pink eye (conjunctivitis) is an inflammation o...   \n",
       "3  Diarrhea — loose, watery and possibly more-fre...   \n",
       "4  Diphtheria is a serious bacterial infection th...   \n",
       "\n",
       "                                            Symptoms Duration  \\\n",
       "0  Fever, Loss of appetite, Headache, Tiredness, ...     4-10   \n",
       "1  Sneezing, Stuffy nose, Runny nose, Sore throat...      3-7   \n",
       "2  Pink or red color in the eye, Swelling of eyel...     7-28   \n",
       "3  Abdominal cramps or pain, Bloating, Nausea, Vo...     2-28   \n",
       "4  A thick gray membrane covering the throat and ...     7-21   \n",
       "\n",
       "                                      clean_symptoms  \n",
       "0  fever, loss appetite, headache, tiredness, fee...  \n",
       "1  sneeze, stuffy nose, runny nose, sore throat, ...  \n",
       "2  swell eyelid, itch, irritation, burn, discharg...  \n",
       "3  abdominal cramp pain, bloat, nausea, vomit, fe...  \n",
       "4  sore throat hoarseness, swollen gland neck, di...  "
      ]
     },
     "execution_count": 9,
     "metadata": {},
     "output_type": "execute_result"
    }
   ],
   "source": [
    "path = os.path.join('..', '..', 'cleaned_dataset.csv')\n",
    "df = pd.read_csv(path)\n",
    "df.head()"
   ]
  },
  {
   "cell_type": "code",
   "execution_count": 10,
   "id": "7814a40e",
   "metadata": {},
   "outputs": [
    {
     "data": {
      "text/plain": [
       "Graph('neo4j+s://a127cef1.databases.neo4j.io:7687')"
      ]
     },
     "execution_count": 10,
     "metadata": {},
     "output_type": "execute_result"
    }
   ],
   "source": [
    "uri = 'neo4j+s://a127cef1.databases.neo4j.io'\n",
    "username = 'neo4j'\n",
    "password = '5ffckSQbG9tESXfS04yUO7NGQcw3SRv7wDko4wcpepc'\n",
    "\n",
    "graph = Graph(uri, auth = (username, password))\n",
    "graph "
   ]
  },
  {
   "cell_type": "code",
   "execution_count": 36,
   "id": "a267f588",
   "metadata": {},
   "outputs": [],
   "source": [
    "def clean_simp(symptoms):\n",
    "    s = [i.strip().lower() for i in re.split(r\",|, | , \", symptoms)] if str(symptoms) != 'nan' else []\n",
    "    return s\n",
    "\n",
    "def create_node(label, **properties):\n",
    "    return Node(label, **properties)\n",
    "\n",
    "def create_rel(a, b, rel_type):\n",
    "    return Relationship(a, rel_type, b)\n",
    "\n",
    "def create_kt():\n",
    "    SIMP = {}\n",
    "    for _, rdf in df.iterrows():\n",
    "        disease  = rdf.Disease\n",
    "        symptoms = clean_simp(rdf.clean_symptoms) \n",
    "        d_node = create_node('DISEASE', name = disease)\n",
    "        for symptom in symptoms:\n",
    "            if symptom not in SIMP.keys():\n",
    "                SIMP[symptom] = create_node('SYMPTOM', name = symptom)\n",
    "            s_node = SIMP[symptom]\n",
    "            ab_rel = create_rel(d_node, s_node, 'SYMPTOM')\n",
    "            ba_rel = create_rel(s_node, d_node, 'SYMPTOM_OF')\n",
    "            graph.create(ab_rel)\n",
    "            graph.create(ba_rel)\n",
    "            \n",
    "def delete_nodes():\n",
    "    query = 'match (n) detach delete n'\n",
    "    graph.query(query)"
   ]
  },
  {
   "cell_type": "code",
   "execution_count": 37,
   "id": "f50bc171",
   "metadata": {},
   "outputs": [],
   "source": [
    "create_kt()"
   ]
  },
  {
   "cell_type": "code",
   "execution_count": 33,
   "id": "71fcac88",
   "metadata": {},
   "outputs": [],
   "source": [
    "# delete_nodes()"
   ]
  },
  {
   "cell_type": "code",
   "execution_count": 35,
   "id": "1a6a71dd",
   "metadata": {},
   "outputs": [
    {
     "data": {
      "text/plain": [
       "{}"
      ]
     },
     "execution_count": 35,
     "metadata": {},
     "output_type": "execute_result"
    }
   ],
   "source": [
    "SIMP"
   ]
  },
  {
   "cell_type": "code",
   "execution_count": null,
   "id": "38df96ac",
   "metadata": {},
   "outputs": [],
   "source": []
  }
 ],
 "metadata": {
  "kernelspec": {
   "display_name": "healthbot",
   "language": "python",
   "name": "healthbot"
  },
  "language_info": {
   "codemirror_mode": {
    "name": "ipython",
    "version": 3
   },
   "file_extension": ".py",
   "mimetype": "text/x-python",
   "name": "python",
   "nbconvert_exporter": "python",
   "pygments_lexer": "ipython3",
   "version": "3.7.13"
  }
 },
 "nbformat": 4,
 "nbformat_minor": 5
}
